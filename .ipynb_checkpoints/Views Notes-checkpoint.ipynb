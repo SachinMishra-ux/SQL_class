{
 "cells": [
  {
   "cell_type": "markdown",
   "id": "c627321c",
   "metadata": {},
   "source": [
    "### - Please note that MySQL doesn't support \"materialized views\" in the same way as some other databases. \n",
    "\n",
    "### - The above approach using CREATE TABLE with SELECT is a common workaround. \n",
    "\n",
    "### - If you need to refresh the data, you would need to re-run the CREATE TABLE statement with the SELECT query. \n",
    "\n",
    "### - Keep in mind the trade-offs between materialized views and using tables for your specific use case."
   ]
  },
  {
   "cell_type": "markdown",
   "id": "09d79ab7",
   "metadata": {},
   "source": [
    "### In SQL, an inline view (also known as a derived table or subquery) is a virtual table that is derived from the result of a SELECT statement within the FROM clause of another SQL query. \n",
    "\n",
    "### Inline views are useful when you need to perform operations on a subset of data or when you want to simplify complex queries by breaking them into more manageable parts."
   ]
  },
  {
   "cell_type": "markdown",
   "id": "b5ebd0ce",
   "metadata": {},
   "source": [
    "## Simple Inline View Explanation\n",
    "\n",
    "### The inner SELECT statement creates an inline view by selecting specific columns from the Employees table where the DepartmentID is equal to 1.\n",
    "\n",
    "### The outer SELECT statement queries the data from the inline view (Department1Employees). The inline view behaves like a temporary table, allowing you to query or perform additional operations on the subset of data defined by the inner SELECT."
   ]
  },
  {
   "cell_type": "markdown",
   "id": "b5431d55",
   "metadata": {},
   "source": [
    "## join Inline Views Explanation\n",
    "\n",
    "### In this case, the inline view selects customer names from the Customers table where the country is 'USA', and the main query performs a JOIN operation with the Orders table using this inline view.\n",
    "\n",
    "### Inline views can be powerful tools for structuring complex queries and improving query readability."
   ]
  },
  {
   "cell_type": "code",
   "execution_count": null,
   "id": "ad3f4003",
   "metadata": {},
   "outputs": [],
   "source": []
  }
 ],
 "metadata": {
  "kernelspec": {
   "display_name": "Python 3 (ipykernel)",
   "language": "python",
   "name": "python3"
  },
  "language_info": {
   "codemirror_mode": {
    "name": "ipython",
    "version": 3
   },
   "file_extension": ".py",
   "mimetype": "text/x-python",
   "name": "python",
   "nbconvert_exporter": "python",
   "pygments_lexer": "ipython3",
   "version": "3.9.13"
  }
 },
 "nbformat": 4,
 "nbformat_minor": 5
}
